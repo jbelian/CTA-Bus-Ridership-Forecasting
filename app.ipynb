{
 "cells": [
  {
   "cell_type": "markdown",
   "id": "21e778ef",
   "metadata": {},
   "source": [
    "# Voila Web App\n",
    "\n",
    "## A website built out of a Jupyter notebook using Voila"
   ]
  }
}
  
